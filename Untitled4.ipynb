{
  "nbformat": 4,
  "nbformat_minor": 0,
  "metadata": {
    "colab": {
      "provenance": [],
      "collapsed_sections": [],
      "authorship_tag": "ABX9TyNyXoe017FmgicZDmyY56Pa",
      "include_colab_link": true
    },
    "kernelspec": {
      "name": "python3",
      "display_name": "Python 3"
    },
    "language_info": {
      "name": "python"
    }
  },
  "cells": [
    {
      "cell_type": "markdown",
      "metadata": {
        "id": "view-in-github",
        "colab_type": "text"
      },
      "source": [
        "<a href=\"https://colab.research.google.com/github/humafarha/Ai/blob/main/Untitled4.ipynb\" target=\"_parent\"><img src=\"https://colab.research.google.com/assets/colab-badge.svg\" alt=\"Open In Colab\"/></a>"
      ]
    },
    {
      "cell_type": "markdown",
      "source": [
        "**MANUAL CALCULATIONS**\n",
        "\n",
        "*   FIND THE GLOBAL MINIMUM POINT AND VALUE FOR THE FUNCTION f(x,y)= 3x^2+5*e^-y=10\n",
        "\n",
        "*   iteration 1\n",
        "\n",
        "*   Choose initial value for x , y ,n\n",
        "\n",
        "*  let x=2,y=0 n=0.1 \n",
        "\n",
        "\n",
        "*   Find gradient at x=2 i.e df(x,y)/d(x)|x=2 = 6(2)=12\n",
        "\n",
        "*   Find gradient at y=0 i.e df(x,y)/d(y)|y=0 = -5*e^-y|y=0 = -5\n",
        "\n",
        "*   As gradient not equal to zero ,calculate step length \n",
        "\n",
        "*   x'=-0.1*(12)=-1.2 and y'=-0.1*(5)=-0.5\n",
        "\n",
        "* update x value as x=2+(-1.2)= 0.8\n",
        "and y as y=0+0.5= 0.5\n",
        "\n",
        "*   This procedure is repeated until gradient is near to zero .For the next iteration x=0.32 and y= 0.80\n",
        "\n",
        "\n",
        "\n",
        "\n",
        "\n",
        "\n",
        "\n",
        "\n",
        "\n"
      ],
      "metadata": {
        "id": "GT9G33wREHHc"
      }
    },
    {
      "cell_type": "code",
      "source": [
        "#initialization of parameters\n",
        "x_o=2\n",
        "y_o=0\n",
        "eta=0.1\n",
        "eps=0.000001\n",
        "del_x=1#\n",
        "del_y=1#\n",
        "max_itr=10\n",
        "iters=0\n",
        "import math as mt\n",
        "def deriv(x,y):\n",
        "  x_deriv=6*(x)\n",
        "  y_deriv=-5*mt.exp(-y)\n",
        "  return x_deriv,y_deriv\n",
        "while max(abs(del_x),abs(del_y)) > eps and iters< max_itr:\n",
        "  prev_x = x_o\n",
        "  prev_y = y_o\n",
        "  del_x,del_y = deriv(prev_x,prev_y)\n",
        "  del_x=-eta*del_x\n",
        "  del_y=-eta*del_y\n",
        "  x_o = x_o + del_x\n",
        "  y_o = y_o + del_y\n",
        "  iters = iters +1\n",
        "  print(\"iteration\",iters,\"\\nX value is\",x_o,\"\\nY value is\",y_o)\n",
        "print(\"the local minimum occurs at\",x_o,y_o)"
      ],
      "metadata": {
        "colab": {
          "base_uri": "https://localhost:8080/"
        },
        "id": "AdI-Fp62Kb8m",
        "outputId": "c6ba8a46-87b7-49bc-9833-f6c3cb118b78"
      },
      "execution_count": 10,
      "outputs": [
        {
          "output_type": "stream",
          "name": "stdout",
          "text": [
            "iteration 1 \n",
            "X value is 0.7999999999999998 \n",
            "Y value is 0.5\n",
            "iteration 2 \n",
            "X value is 0.3199999999999999 \n",
            "Y value is 0.8032653298563167\n",
            "iteration 3 \n",
            "X value is 0.12799999999999995 \n",
            "Y value is 1.0271974047003467\n",
            "iteration 4 \n",
            "X value is 0.05119999999999997 \n",
            "Y value is 1.2062018596864992\n",
            "iteration 5 \n",
            "X value is 0.020479999999999984 \n",
            "Y value is 1.355867873757267\n",
            "iteration 6 \n",
            "X value is 0.008191999999999993 \n",
            "Y value is 1.4847296366971139\n",
            "iteration 7 \n",
            "X value is 0.0032767999999999964 \n",
            "Y value is 1.5980114301353114\n",
            "iteration 8 \n",
            "X value is 0.0013107199999999983 \n",
            "Y value is 1.6991606315261507\n",
            "iteration 9 \n",
            "X value is 0.0005242879999999992 \n",
            "Y value is 1.7905790951338503\n",
            "iteration 10 \n",
            "X value is 0.0002097151999999996 \n",
            "Y value is 1.8740108510513407\n",
            "the local minimum occurs at 0.0002097151999999996 1.8740108510513407\n"
          ]
        }
      ]
    }
  ]
}